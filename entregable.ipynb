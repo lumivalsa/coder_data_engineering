{
 "cells": [
  {
   "cell_type": "markdown",
   "metadata": {},
   "source": [
    "## Entregable 1\n",
    "Vamos a realizar la conexión con la API de https://openweathermap.org/ para obtener los datos meteorológicos de una ciudad. Para ello, vamos a utilizar la librería requests de Python."
   ]
  },
  {
   "cell_type": "code",
   "execution_count": 9,
   "metadata": {},
   "outputs": [],
   "source": [
    "import requests\n"
   ]
  },
  {
   "cell_type": "code",
   "execution_count": 23,
   "metadata": {},
   "outputs": [
    {
     "name": "stdout",
     "output_type": "stream",
     "text": [
      "{'coord': {'lon': -77.0282, 'lat': -12.0432}, 'weather': [{'id': 803, 'main': 'Clouds', 'description': 'broken clouds', 'icon': '04d'}], 'base': 'stations', 'main': {'temp': 21.14, 'feels_like': 21.09, 'temp_min': 21.14, 'temp_max': 21.14, 'pressure': 1010, 'humidity': 68}, 'visibility': 10000, 'wind': {'speed': 4.63, 'deg': 190}, 'clouds': {'all': 75}, 'dt': 1701723328, 'sys': {'type': 1, 'id': 8682, 'country': 'PE', 'sunrise': 1701686084, 'sunset': 1701732127}, 'timezone': -18000, 'id': 3936456, 'name': 'Lima', 'cod': 200}\n"
     ]
    }
   ],
   "source": [
    "#Realizamos la consulta a la API y lo guardamos en una variable con formato json\n",
    "city = input(\"Enter city name: \")\n",
    "key=\"3be43396ae24ed9b1a5fb3c88350ceff\"\n",
    "url=f'http://api.openweathermap.org/data/2.5/weather?q={city}&appid={key}&units=metric'\n",
    "res=requests.get(url)\n",
    "data=res.json()\n"
   ]
  },
  {
   "cell_type": "code",
   "execution_count": 24,
   "metadata": {},
   "outputs": [
    {
     "name": "stdout",
     "output_type": "stream",
     "text": [
      "Temperature: 21.14°C\n",
      "Wind Speed: 4.63 m/s\n",
      "Latitude: -12.0432\n",
      "Longitude: -77.0282\n",
      "Humidity: 68\n",
      "Description: broken clouds\n"
     ]
    }
   ],
   "source": [
    "#Guardamos datos de temperatura,velocidad de viento, latitud, longitud, humedad y la descripcion en variables\n",
    "temp=data['main']['temp']\n",
    "wind_speed=data['wind']['speed']\n",
    "lat=data['coord']['lat']\n",
    "lon=data['coord']['lon']\n",
    "humidity=data['main']['humidity']\n",
    "description=data['weather'][0]['description']\n",
    "\n",
    "#Imprimimos los datos\n",
    "print(\"Temperature: {}°C\".format(temp))\n",
    "print(\"Wind Speed: {} m/s\".format(wind_speed))\n",
    "print(\"Latitude: {}\".format(lat))\n",
    "print(\"Longitude: {}\".format(lon))\n",
    "print(\"Humidity: {}\".format(humidity))\n",
    "print(\"Description: {}\".format(description))\n",
    "\n"
   ]
  },
  {
   "cell_type": "code",
   "execution_count": null,
   "metadata": {},
   "outputs": [],
   "source": []
  }
 ],
 "metadata": {
  "kernelspec": {
   "display_name": "Coder",
   "language": "python",
   "name": "python3"
  },
  "language_info": {
   "codemirror_mode": {
    "name": "ipython",
    "version": 3
   },
   "file_extension": ".py",
   "mimetype": "text/x-python",
   "name": "python",
   "nbconvert_exporter": "python",
   "pygments_lexer": "ipython3",
   "version": "3.10.13"
  },
  "orig_nbformat": 4
 },
 "nbformat": 4,
 "nbformat_minor": 2
}
